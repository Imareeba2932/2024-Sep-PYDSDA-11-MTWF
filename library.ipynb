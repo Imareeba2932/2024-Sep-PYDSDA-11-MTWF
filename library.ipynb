{
 "cells": [
  {
   "cell_type": "code",
   "execution_count": 1,
   "metadata": {},
   "outputs": [],
   "source": [
    "import math"
   ]
  },
  {
   "cell_type": "code",
   "execution_count": 2,
   "metadata": {},
   "outputs": [
    {
     "name": "stdout",
     "output_type": "stream",
     "text": [
      "3.0\n",
      "8.0\n",
      "120\n",
      "3.141592653589793\n",
      "2.718281828459045\n",
      "4\n",
      "24\n",
      "0.8414709848078965\n",
      "0.5403023058681398\n",
      "1.5574077246549023\n"
     ]
    }
   ],
   "source": [
    "print(math.sqrt(9))\n",
    "print(math.pow(2, 3))\n",
    "print(math.factorial(5))\n",
    "print(math.pi)\n",
    "print(math.e)\n",
    "print(math.gcd(12, 8))\n",
    "print(math.lcm(12, 8))\n",
    "print(math.sin(1))\n",
    "print(math.cos(1))\n",
    "print(math.tan(1))"
   ]
  },
  {
   "cell_type": "code",
   "execution_count": 3,
   "metadata": {},
   "outputs": [],
   "source": [
    "from random import random, randint, choice, shuffle"
   ]
  },
  {
   "cell_type": "code",
   "execution_count": 4,
   "metadata": {},
   "outputs": [
    {
     "name": "stdout",
     "output_type": "stream",
     "text": [
      "get a random number between 0 and 1: 0.38725339611838283\n",
      "get a random number between 1 and 100: 38\n",
      "get a random element from a list: 3\n",
      "shuffle a list: ['Charlie', 'David', 'Alice', 'Eve', 'Bob']\n"
     ]
    }
   ],
   "source": [
    "print('get a random number between 0 and 1:', random())\n",
    "print('get a random number between 1 and 100:', randint(1, 100))\n",
    "print('get a random element from a list:', choice([1, 2, 3, 4, 5]))\n",
    "names = ['Alice', 'Bob', 'Charlie', 'David', 'Eve']\n",
    "shuffle(names)\n",
    "print('shuffle a list:', names)"
   ]
  },
  {
   "cell_type": "code",
   "execution_count": 5,
   "metadata": {},
   "outputs": [],
   "source": [
    "from datetime import datetime as dt"
   ]
  },
  {
   "cell_type": "code",
   "execution_count": 6,
   "metadata": {},
   "outputs": [
    {
     "name": "stdout",
     "output_type": "stream",
     "text": [
      "current date and time: 2024-09-25 11:20:32.093466\n"
     ]
    }
   ],
   "source": [
    "print('current date and time:', dt.now())"
   ]
  },
  {
   "cell_type": "code",
   "execution_count": 7,
   "metadata": {},
   "outputs": [
    {
     "name": "stdout",
     "output_type": "stream",
     "text": [
      "Current Date: 2024-09-25\n",
      "Current Time: 11:20:32.114652\n"
     ]
    }
   ],
   "source": [
    "print('Current Date:', dt.now().date())\n",
    "print('Current Time:', dt.now().time())"
   ]
  },
  {
   "cell_type": "code",
   "execution_count": 8,
   "metadata": {},
   "outputs": [
    {
     "name": "stdout",
     "output_type": "stream",
     "text": [
      "Current Year: 2024\n",
      "Current Month: 9\n",
      "Current Day: 25\n",
      "Current Hour: 11\n",
      "Current Minute: 20\n",
      "Current Second: 32\n",
      "Current Microsecond: 157403\n",
      "Current Weekday: 2\n"
     ]
    }
   ],
   "source": [
    "print('Current Year:', dt.now().year)\n",
    "print('Current Month:', dt.now().month)\n",
    "print('Current Day:', dt.now().day)\n",
    "print('Current Hour:', dt.now().hour)\n",
    "print('Current Minute:', dt.now().minute)\n",
    "print('Current Second:', dt.now().second)\n",
    "print('Current Microsecond:', dt.now().microsecond)\n",
    "print('Current Weekday:', dt.now().weekday())"
   ]
  },
  {
   "cell_type": "code",
   "execution_count": 9,
   "metadata": {},
   "outputs": [
    {
     "name": "stdout",
     "output_type": "stream",
     "text": [
      "Date: 25/09/2024\n"
     ]
    }
   ],
   "source": [
    "date = dt.strftime(dt.now(), '%d/%m/%Y')\n",
    "print('Date:', date)"
   ]
  },
  {
   "cell_type": "code",
   "execution_count": 10,
   "metadata": {},
   "outputs": [
    {
     "name": "stdout",
     "output_type": "stream",
     "text": [
      "Time: 11:20:32\n"
     ]
    }
   ],
   "source": [
    "time = dt.strftime(dt.now(), '%H:%M:%S')\n",
    "print('Time:', time)"
   ]
  },
  {
   "cell_type": "code",
   "execution_count": 11,
   "metadata": {},
   "outputs": [],
   "source": [
    "import os"
   ]
  },
  {
   "cell_type": "code",
   "execution_count": 12,
   "metadata": {},
   "outputs": [
    {
     "name": "stdout",
     "output_type": "stream",
     "text": [
      "current working directory: c:\\Users\\LENOVO\\Documents\\2024-Sep-PYDSDA-11-MTWF\n"
     ]
    }
   ],
   "source": [
    "print('current working directory:', os.getcwd())"
   ]
  },
  {
   "cell_type": "code",
   "execution_count": 13,
   "metadata": {},
   "outputs": [
    {
     "name": "stdout",
     "output_type": "stream",
     "text": [
      "files in the current directory: ['.git', 'Conditions.ipynb', 'data structures', 'functions.ipynb', 'library.ipynb', 'loops.ipynb']\n",
      "6 files found\n"
     ]
    }
   ],
   "source": [
    "files = os.listdir()\n",
    "print('files in the current directory:', files)\n",
    "print(len(files), 'files found')"
   ]
  },
  {
   "cell_type": "code",
   "execution_count": 14,
   "metadata": {},
   "outputs": [
    {
     "name": "stdout",
     "output_type": "stream",
     "text": [
      "files in the specified directory: ['.git', 'analysis', 'Basics.ipynb', 'Basics.py', 'Conditions.ipynb', 'Data Structures', 'function.ipynb', 'loops.ipynb', 'Operators.ipynb', 'turtle', 'Variables.ipynb']\n"
     ]
    }
   ],
   "source": [
    "files = os.listdir(r\"C:\\Users\\LENOVO\\Documents\\2024-AUG-PYDSDA-8\")\n",
    "print('files in the specified directory:', files)"
   ]
  },
  {
   "cell_type": "code",
   "execution_count": 15,
   "metadata": {},
   "outputs": [
    {
     "data": {
      "text/plain": [
       "<generator object _walk at 0x00000185FDD3F350>"
      ]
     },
     "execution_count": 15,
     "metadata": {},
     "output_type": "execute_result"
    }
   ],
   "source": [
    "os.walk('C:')"
   ]
  },
  {
   "cell_type": "code",
   "execution_count": 16,
   "metadata": {},
   "outputs": [
    {
     "name": "stdout",
     "output_type": "stream",
     "text": [
      "=> C:\n",
      "📂  ['.git', 'data structures']\n",
      "📄  ['Conditions.ipynb', 'functions.ipynb', 'library.ipynb', 'loops.ipynb']\n",
      "=> C:.git\n",
      "📂  ['hooks', 'info', 'logs', 'objects', 'refs']\n",
      "📄  ['COMMIT_EDITMSG', 'config', 'description', 'FETCH_HEAD', 'HEAD', 'index']\n",
      "=> C:.git\\hooks\n",
      "📂  []\n",
      "📄  ['applypatch-msg.sample', 'commit-msg.sample', 'fsmonitor-watchman.sample', 'post-update.sample', 'pre-applypatch.sample', 'pre-commit.sample', 'pre-merge-commit.sample', 'pre-push.sample', 'pre-rebase.sample', 'pre-receive.sample', 'prepare-commit-msg.sample', 'push-to-checkout.sample', 'sendemail-validate.sample', 'update.sample']\n",
      "=> C:.git\\info\n",
      "📂  []\n",
      "📄  ['exclude']\n",
      "=> C:.git\\logs\n",
      "📂  ['refs']\n",
      "📄  ['HEAD']\n",
      "=> C:.git\\logs\\refs\n",
      "📂  ['heads', 'remotes']\n",
      "📄  []\n",
      "=> C:.git\\logs\\refs\\heads\n",
      "📂  []\n",
      "📄  ['main']\n",
      "=> C:.git\\logs\\refs\\remotes\n",
      "📂  ['origin']\n",
      "📄  []\n",
      "=> C:.git\\logs\\refs\\remotes\\origin\n",
      "📂  []\n",
      "📄  ['main']\n",
      "=> C:.git\\objects\n",
      "📂  ['0a', '29', '2a', '2d', '38', '4f', '5e', '68', '6e', 'eb', 'ef', 'f6', 'fa', 'info', 'pack']\n",
      "📄  []\n",
      "=> C:.git\\objects\\0a\n",
      "📂  []\n",
      "📄  ['92bbf339748c0a6836034f477c6f93f5282468']\n",
      "=> C:.git\\objects\\29\n",
      "📂  []\n",
      "📄  ['687d375600fc44742e5a3da2a2eb684bb6af0d', 'fce622c56be5d12ac8825f46b7c9152264109c']\n",
      "=> C:.git\\objects\\2a\n",
      "📂  []\n",
      "📄  ['6061507bb4a5577c7b8dff6fba0ef21ffb6587']\n",
      "=> C:.git\\objects\\2d\n",
      "📂  []\n",
      "📄  ['30ae96a1bbb1a9c41582720c15b96b837447d9', '704d4e6f444e2e4c76e251c624c0dd8869f718']\n",
      "=> C:.git\\objects\\38\n",
      "📂  []\n",
      "📄  ['7bb81ed61d732940c0df1c289dfd0c4d19d6d9']\n",
      "=> C:.git\\objects\\4f\n",
      "📂  []\n",
      "📄  ['a282a90f28f3b063da5d7d71acd575207f03b8']\n",
      "=> C:.git\\objects\\5e\n",
      "📂  []\n",
      "📄  ['33a29cf4e0f1c0c8ca210a6bd8b435624ad92e']\n",
      "=> C:.git\\objects\\68\n",
      "📂  []\n",
      "📄  ['fd30f2a1aacd17b197326fd696070264484986']\n",
      "=> C:.git\\objects\\6e\n",
      "📂  []\n",
      "📄  ['16eed39e7f1c2a1a84abbd2782fa5137e4190c']\n",
      "=> C:.git\\objects\\eb\n",
      "📂  []\n",
      "📄  ['4e529d7aaa96ae6f16e56445d092f4aef5cd33']\n",
      "=> C:.git\\objects\\ef\n",
      "📂  []\n",
      "📄  ['2223edd6345aedf5cecb6f1a2cd7fa0ec6e263']\n",
      "=> C:.git\\objects\\f6\n",
      "📂  []\n",
      "📄  ['9dffb5e6192ed55432953b22ed84c905273210']\n",
      "=> C:.git\\objects\\fa\n",
      "📂  []\n",
      "📄  ['fe57a1b12ef4c0732acb80a1589ded31bcdc35']\n",
      "=> C:.git\\objects\\info\n",
      "📂  []\n",
      "📄  []\n",
      "=> C:.git\\objects\\pack\n",
      "📂  []\n",
      "📄  []\n",
      "=> C:.git\\refs\n",
      "📂  ['heads', 'remotes', 'tags']\n",
      "📄  []\n",
      "=> C:.git\\refs\\heads\n",
      "📂  []\n",
      "📄  ['main']\n",
      "=> C:.git\\refs\\remotes\n",
      "📂  ['origin']\n",
      "📄  []\n",
      "=> C:.git\\refs\\remotes\\origin\n",
      "📂  []\n",
      "📄  ['main']\n",
      "=> C:.git\\refs\\tags\n",
      "📂  []\n",
      "📄  []\n",
      "=> C:data structures\n",
      "📂  []\n",
      "📄  ['dictionary.ipynb', 'List.ipynb', 'sets.ipynb', 'string.ipynb']\n",
      "total files found: 49\n"
     ]
    }
   ],
   "source": [
    "total_files = 0\n",
    "for path, folders, files in os.walk('C:'):\n",
    "    print('=>', path)\n",
    "    print('📂 ', folders)\n",
    "    print('📄 ', files)\n",
    "    total_files += len(files)\n",
    "print('total files found:', total_files)"
   ]
  },
  {
   "cell_type": "code",
   "execution_count": 19,
   "metadata": {},
   "outputs": [
    {
     "name": "stdout",
     "output_type": "stream",
     "text": [
      "Folder exists\n"
     ]
    }
   ],
   "source": [
    "file = r\"C:\\Users\\LENOVO\\Documents\\Assignments1\"\n",
    "if os.path.exists(file):\n",
    "    print('Folder exists')\n",
    "else:\n",
    "    print('Folder does not exist')"
   ]
  },
  {
   "cell_type": "code",
   "execution_count": 20,
   "metadata": {},
   "outputs": [
    {
     "name": "stdout",
     "output_type": "stream",
     "text": [
      "Folder exists\n",
      "Folder size: 4096 bytes\n",
      "Folder size in kb: 4.0 KB\n",
      "Folder size in MB: 0.00390625 MB\n",
      "Folder size in GB: 3.814697265625e-06 GB\n"
     ]
    }
   ],
   "source": [
    "files = r\"C:\\Users\\LENOVO\\Documents\\Assignments1\"\n",
    "if os.path.exists(files):\n",
    "    print('Folder exists')\n",
    "    size = os.path.getsize(files)\n",
    "    print('Folder size:', size, 'bytes')\n",
    "    print('Folder size in kb:', size / 1024, 'KB')\n",
    "    print('Folder size in MB:', size / 1024 / 1024, 'MB')\n",
    "    print('Folder size in GB:', size / 1024 / 1024 / 1024, 'GB')"
   ]
  },
  {
   "cell_type": "code",
   "execution_count": null,
   "metadata": {},
   "outputs": [],
   "source": []
  }
 ],
 "metadata": {
  "kernelspec": {
   "display_name": "base",
   "language": "python",
   "name": "python3"
  },
  "language_info": {
   "codemirror_mode": {
    "name": "ipython",
    "version": 3
   },
   "file_extension": ".py",
   "mimetype": "text/x-python",
   "name": "python",
   "nbconvert_exporter": "python",
   "pygments_lexer": "ipython3",
   "version": "3.9.12"
  }
 },
 "nbformat": 4,
 "nbformat_minor": 2
}

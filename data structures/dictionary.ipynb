{
 "cells": [
  {
   "cell_type": "markdown",
   "metadata": {},
   "source": [
    "- how to declare dictionary in different ways\n",
    "- how to access key and values of dictionary\n",
    "- how to use loops in dictionary\n",
    "- nested dictionary"
   ]
  },
  {
   "cell_type": "markdown",
   "metadata": {},
   "source": [
    "### heading\n",
    "- item\n",
    "- item\n",
    "   - subitem \n",
    "   - subitem\n",
    "- item"
   ]
  },
  {
   "cell_type": "code",
   "execution_count": 2,
   "metadata": {},
   "outputs": [
    {
     "name": "stdout",
     "output_type": "stream",
     "text": [
      "{'name': 'John', 'class': '12th', 'roll_no': 2, 'age': 17}\n"
     ]
    }
   ],
   "source": [
    "student = {\n",
    "    \"name\": \"John\",\n",
    "    \"class\" : \"12th\",\n",
    "    \"roll_no\" : 2,\n",
    "    \"age\" : 17\n",
    "}\n",
    "print(student)"
   ]
  },
  {
   "cell_type": "code",
   "execution_count": 3,
   "metadata": {},
   "outputs": [
    {
     "name": "stdout",
     "output_type": "stream",
     "text": [
      "{'lucknow': [25, 30, 35], 'delhi': [30, 35, 40], 'chennai': [24, 23, 22]}\n"
     ]
    }
   ],
   "source": [
    "temp = {\n",
    "    'lucknow' : [25,30,35],\n",
    "    'delhi' : [30,35,40],\n",
    "    'chennai' : [24,23,22]\n",
    "}\n",
    "print(temp)"
   ]
  },
  {
   "cell_type": "code",
   "execution_count": 5,
   "metadata": {},
   "outputs": [
    {
     "name": "stdout",
     "output_type": "stream",
     "text": [
      "{'name': 'John', 'age': 17, 'roll_no': 2, 'class_': '12th'}\n"
     ]
    }
   ],
   "source": [
    "info = dict(name = 'John', age = 17, roll_no = 2, class_ = '12th')\n",
    "print(info)"
   ]
  },
  {
   "cell_type": "code",
   "execution_count": 7,
   "metadata": {},
   "outputs": [
    {
     "name": "stdout",
     "output_type": "stream",
     "text": [
      "{'name': 'areeba', 'age': 12, 'roll_no': 123, 'class_': '12'}\n"
     ]
    }
   ],
   "source": [
    "info2 = dict(name=input(\"Enter your name: \"),\n",
    "         age=int(input(\"Enter your age: \")),\n",
    "         roll_no=int(input(\"Enter your roll_no: \")),\n",
    "         class_=input(\"Enter your class: \"))\n",
    "print(info2)\n"
   ]
  },
  {
   "cell_type": "code",
   "execution_count": 9,
   "metadata": {},
   "outputs": [
    {
     "name": "stdout",
     "output_type": "stream",
     "text": [
      "John\n",
      "[25, 30, 35]\n"
     ]
    }
   ],
   "source": [
    "#1st method to access the value of a key\n",
    "print(student['name'])\n",
    "print(temp['lucknow'])"
   ]
  },
  {
   "cell_type": "code",
   "execution_count": 11,
   "metadata": {},
   "outputs": [
    {
     "name": "stdout",
     "output_type": "stream",
     "text": [
      "17\n",
      "123\n"
     ]
    }
   ],
   "source": [
    "#2nd method to access the value of a key\n",
    "print(student.get('age'))\n",
    "print(info2.get('roll_no'))"
   ]
  },
  {
   "cell_type": "code",
   "execution_count": 13,
   "metadata": {},
   "outputs": [
    {
     "name": "stdout",
     "output_type": "stream",
     "text": [
      "{'name': 'John', 'class': '12th', 'roll_no': 2, 'age': 17, 'city': 'Lucknow', 'school': 'DPS'}\n"
     ]
    }
   ],
   "source": [
    "# to add items in a dictionary\n",
    "student['city'] = 'Lucknow'\n",
    "student['school'] = \"DPS\"\n",
    "print(student)"
   ]
  },
  {
   "cell_type": "code",
   "execution_count": 14,
   "metadata": {},
   "outputs": [
    {
     "name": "stdout",
     "output_type": "stream",
     "text": [
      "{'name': 'John', 'class': '12th', 'roll_no': 2, 'age': 17, 'city': 'Lucknow'}\n"
     ]
    }
   ],
   "source": [
    "#to remove items from a dictionary\n",
    "student.pop('school')\n",
    "print(student)"
   ]
  },
  {
   "cell_type": "code",
   "execution_count": 17,
   "metadata": {},
   "outputs": [
    {
     "name": "stdout",
     "output_type": "stream",
     "text": [
      "{'name': 'John', 'class': '12th', 'age': 17}\n"
     ]
    }
   ],
   "source": [
    "#using del method\n",
    "del student['roll_no']\n",
    "print(student)"
   ]
  },
  {
   "cell_type": "code",
   "execution_count": 18,
   "metadata": {},
   "outputs": [
    {
     "name": "stdout",
     "output_type": "stream",
     "text": [
      "name\n",
      "age\n",
      "roll_no\n",
      "class_\n"
     ]
    }
   ],
   "source": [
    "for k in info:\n",
    "    print(k)"
   ]
  },
  {
   "cell_type": "code",
   "execution_count": 22,
   "metadata": {},
   "outputs": [
    {
     "name": "stdout",
     "output_type": "stream",
     "text": [
      "name : areeba\n",
      "age : 12\n",
      "roll_no : 123\n",
      "class_ : 12\n"
     ]
    }
   ],
   "source": [
    "for k,v in info2.items():\n",
    "    print(f\"{k} : {v}\")"
   ]
  },
  {
   "cell_type": "code",
   "execution_count": 24,
   "metadata": {},
   "outputs": [
    {
     "name": "stdout",
     "output_type": "stream",
     "text": [
      "dict_values(['John', '12th', 17])\n",
      "dict_keys(['name', 'class', 'age'])\n",
      "dict_items([('name', 'John'), ('class', '12th'), ('age', 17)])\n"
     ]
    }
   ],
   "source": [
    "print(student.values())\n",
    "print(student.keys())\n",
    "print(student.items())"
   ]
  },
  {
   "cell_type": "code",
   "execution_count": 27,
   "metadata": {},
   "outputs": [
    {
     "name": "stdout",
     "output_type": "stream",
     "text": [
      "{'emp001': {'name': 'John', 'age': 25, 'dept': 'HR', 'salary': 25000}, 'emp002': {'name': 'Emma', 'age': 30, 'dept': 'Finance', 'salary': 30000}, 'emp003': {'name': 'Linda', 'age': 35, 'dept': 'IT', 'salary': 35000}, 'emp004': {'name': 'David', 'age': 40, 'dept': 'Admin', 'salary': 40000}}\n"
     ]
    }
   ],
   "source": [
    "company = {\n",
    "    'emp001' : {'name':'John', 'age':25, 'dept':'HR', 'salary':25000},\n",
    "    'emp002' : {'name':'Emma', 'age':30, 'dept':'Finance', 'salary':30000},\n",
    "    'emp003' : {'name':'Linda', 'age':35, 'dept':'IT', 'salary':35000},\n",
    "    'emp004' : {'name':'David', 'age':40, 'dept':'Admin', 'salary':40000}\n",
    "}\n",
    "print(company)"
   ]
  },
  {
   "cell_type": "code",
   "execution_count": 28,
   "metadata": {},
   "outputs": [],
   "source": [
    "from pprint import pp"
   ]
  },
  {
   "cell_type": "code",
   "execution_count": 29,
   "metadata": {},
   "outputs": [
    {
     "name": "stdout",
     "output_type": "stream",
     "text": [
      "{'emp001': {'name': 'John', 'age': 25, 'dept': 'HR', 'salary': 25000},\n",
      " 'emp002': {'name': 'Emma', 'age': 30, 'dept': 'Finance', 'salary': 30000},\n",
      " 'emp003': {'name': 'Linda', 'age': 35, 'dept': 'IT', 'salary': 35000},\n",
      " 'emp004': {'name': 'David', 'age': 40, 'dept': 'Admin', 'salary': 40000}}\n"
     ]
    }
   ],
   "source": [
    "pp(company)"
   ]
  },
  {
   "cell_type": "code",
   "execution_count": 30,
   "metadata": {},
   "outputs": [
    {
     "name": "stdout",
     "output_type": "stream",
     "text": [
      "{'name': 'Emma', 'age': 30, 'dept': 'Finance', 'salary': 30000}\n"
     ]
    }
   ],
   "source": [
    "print(company['emp002'])"
   ]
  },
  {
   "cell_type": "code",
   "execution_count": 31,
   "metadata": {},
   "outputs": [
    {
     "name": "stdout",
     "output_type": "stream",
     "text": [
      "Finance\n"
     ]
    }
   ],
   "source": [
    "print(company['emp002']['dept'])"
   ]
  },
  {
   "cell_type": "code",
   "execution_count": 35,
   "metadata": {},
   "outputs": [
    {
     "name": "stdout",
     "output_type": "stream",
     "text": [
      "25\n",
      "40\n"
     ]
    }
   ],
   "source": [
    "#indexing in dictionary\n",
    "print(temp['lucknow'][0])\n",
    "print(temp['delhi'][2])"
   ]
  },
  {
   "cell_type": "code",
   "execution_count": 37,
   "metadata": {},
   "outputs": [
    {
     "name": "stdout",
     "output_type": "stream",
     "text": [
      "Average temperature of delhi is 35.0\n"
     ]
    }
   ],
   "source": [
    "print(\"Average temperature of delhi is\", sum(temp['delhi'])/len(temp['delhi']))"
   ]
  },
  {
   "cell_type": "code",
   "execution_count": null,
   "metadata": {},
   "outputs": [],
   "source": []
  }
 ],
 "metadata": {
  "kernelspec": {
   "display_name": "base",
   "language": "python",
   "name": "python3"
  },
  "language_info": {
   "codemirror_mode": {
    "name": "ipython",
    "version": 3
   },
   "file_extension": ".py",
   "mimetype": "text/x-python",
   "name": "python",
   "nbconvert_exporter": "python",
   "pygments_lexer": "ipython3",
   "version": "3.9.12"
  }
 },
 "nbformat": 4,
 "nbformat_minor": 2
}

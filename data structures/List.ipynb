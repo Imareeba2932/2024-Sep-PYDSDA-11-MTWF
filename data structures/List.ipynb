{
 "cells": [
  {
   "cell_type": "code",
   "execution_count": 14,
   "metadata": {},
   "outputs": [
    {
     "name": "stdout",
     "output_type": "stream",
     "text": [
      "['google', 'chrome', 'drive', 'swiggy', 'zomato', 'uber', 'rapido', 'watsap', 'instagram', 'facebook', 'twitter', 'photos']\n"
     ]
    }
   ],
   "source": [
    "apps = ['google', 'chrome', 'drive', 'swiggy', 'zomato', 'uber', 'rapido', 'watsap', 'instagram', 'facebook','twitter', 'photos']\n",
    "print(apps)"
   ]
  },
  {
   "cell_type": "code",
   "execution_count": 15,
   "metadata": {},
   "outputs": [
    {
     "name": "stdout",
     "output_type": "stream",
     "text": [
      "uber\n",
      "rapido\n",
      "instagram\n"
     ]
    }
   ],
   "source": [
    "print(apps[5])\n",
    "print(apps[6])\n",
    "print(apps[-4])"
   ]
  },
  {
   "cell_type": "code",
   "execution_count": 16,
   "metadata": {},
   "outputs": [
    {
     "data": {
      "text/plain": [
       "12"
      ]
     },
     "execution_count": 16,
     "metadata": {},
     "output_type": "execute_result"
    }
   ],
   "source": [
    "len(apps)"
   ]
  },
  {
   "cell_type": "code",
   "execution_count": 17,
   "metadata": {},
   "outputs": [
    {
     "name": "stdout",
     "output_type": "stream",
     "text": [
      "['google', 'chrome', 'drive', 'swiggy', 'zomato', 'uber', 'rapido', 'watsap', 'instagram', 'facebook', 'twitter', 'photos']\n"
     ]
    }
   ],
   "source": [
    "print(apps)"
   ]
  },
  {
   "cell_type": "code",
   "execution_count": 18,
   "metadata": {},
   "outputs": [
    {
     "name": "stdout",
     "output_type": "stream",
     "text": [
      "['swiggy', 'zomato', 'uber', 'rapido', 'watsap']\n",
      "['swiggy', 'uber', 'watsap']\n",
      "['google', 'chrome', 'drive', 'swiggy', 'zomato', 'uber', 'rapido', 'watsap']\n",
      "['swiggy', 'zomato', 'uber', 'rapido', 'watsap', 'instagram', 'facebook', 'twitter', 'photos']\n",
      "['google', 'chrome', 'drive', 'swiggy', 'zomato', 'uber', 'rapido', 'watsap', 'instagram', 'facebook', 'twitter', 'photos']\n"
     ]
    }
   ],
   "source": [
    "print(apps[3:8])\n",
    "print(apps[3:8:2])\n",
    "print(apps[:8])\n",
    "print(apps[3:])\n",
    "print(apps[:])"
   ]
  },
  {
   "cell_type": "markdown",
   "metadata": {},
   "source": [
    "## Methods\n",
    "- append\n",
    "- insert\n",
    "- pop\n",
    "- remove\n",
    "- copy\n",
    "- extend\n",
    "- clear\n",
    "- sort"
   ]
  },
  {
   "cell_type": "code",
   "execution_count": 19,
   "metadata": {},
   "outputs": [
    {
     "name": "stdout",
     "output_type": "stream",
     "text": [
      "['google', 'chrome', 'drive', 'swiggy', 'zomato', 'uber', 'rapido', 'watsap', 'instagram', 'facebook', 'twitter', 'photos']\n"
     ]
    }
   ],
   "source": [
    "print(apps)"
   ]
  },
  {
   "cell_type": "code",
   "execution_count": 21,
   "metadata": {},
   "outputs": [
    {
     "name": "stdout",
     "output_type": "stream",
     "text": [
      "['google', 'chrome', 'drive', 'swiggy', 'zomato', 'uber', 'rapido', 'watsap', 'instagram', 'facebook', 'twitter', 'photos']\n"
     ]
    }
   ],
   "source": [
    "apps2 = apps.copy()\n",
    "print(apps2)"
   ]
  },
  {
   "cell_type": "code",
   "execution_count": 24,
   "metadata": {},
   "outputs": [
    {
     "name": "stdout",
     "output_type": "stream",
     "text": [
      "['google', 'chrome', 'drive', 'swiggy', 'zomato', 'uber', 'rapido', 'watsap', 'instagram', 'facebook', 'twitter', 'photos', 'snapchat', 'snapchat', 'snapchat']\n"
     ]
    }
   ],
   "source": [
    "apps.append('snapchat')\n",
    "print(apps)"
   ]
  },
  {
   "cell_type": "code",
   "execution_count": 25,
   "metadata": {},
   "outputs": [
    {
     "name": "stdout",
     "output_type": "stream",
     "text": [
      "['google', 'chrome', 'drive', 'ola', 'swiggy', 'zomato', 'uber', 'rapido', 'watsap', 'instagram', 'facebook', 'twitter', 'photos', 'snapchat', 'snapchat', 'snapchat']\n"
     ]
    }
   ],
   "source": [
    "apps.insert(3, 'ola')\n",
    "print(apps)"
   ]
  },
  {
   "cell_type": "code",
   "execution_count": 26,
   "metadata": {},
   "outputs": [
    {
     "name": "stdout",
     "output_type": "stream",
     "text": [
      "['google', 'chrome', 'drive', 'ola', 'swiggy', 'zomato', 'uber', 'rapido', 'watsap', 'instagram', 'facebook', 'twitter', 'photos', 'snapchat', 'snapchat']\n"
     ]
    }
   ],
   "source": [
    "apps.pop(-1)\n",
    "print(apps)"
   ]
  },
  {
   "cell_type": "code",
   "execution_count": 28,
   "metadata": {},
   "outputs": [
    {
     "name": "stdout",
     "output_type": "stream",
     "text": [
      "['google', 'chrome', 'drive', 'ola', 'swiggy', 'zomato', 'uber', 'rapido', 'watsap', 'instagram', 'facebook', 'twitter', 'photos', 'snapchat']\n"
     ]
    }
   ],
   "source": [
    "apps.remove('snapchat')\n",
    "print(apps)"
   ]
  },
  {
   "cell_type": "code",
   "execution_count": 29,
   "metadata": {},
   "outputs": [
    {
     "name": "stdout",
     "output_type": "stream",
     "text": [
      "['chrome', 'drive', 'facebook', 'google', 'instagram', 'ola', 'photos', 'rapido', 'snapchat', 'swiggy', 'twitter', 'uber', 'watsap', 'zomato']\n"
     ]
    }
   ],
   "source": [
    "apps.sort()\n",
    "print(apps)"
   ]
  },
  {
   "cell_type": "code",
   "execution_count": 31,
   "metadata": {},
   "outputs": [
    {
     "name": "stdout",
     "output_type": "stream",
     "text": [
      "[1, 2, 3]\n"
     ]
    }
   ],
   "source": [
    "a = [1,2,3]\n",
    "print(a)"
   ]
  },
  {
   "cell_type": "code",
   "execution_count": 34,
   "metadata": {},
   "outputs": [
    {
     "name": "stdout",
     "output_type": "stream",
     "text": [
      "[1, 2, 3, 'chrome', 'drive', 'facebook', 'google', 'instagram', 'ola', 'photos', 'rapido', 'snapchat', 'swiggy', 'twitter', 'uber', 'watsap', 'zomato', 1, 2, 3, 'chrome', 'drive', 'facebook', 'google', 'instagram', 'ola', 'photos', 'rapido', 'snapchat', 'swiggy', 'twitter', 'uber', 'watsap', 'zomato', 1, 2, 3]\n"
     ]
    }
   ],
   "source": [
    "a.extend(apps)\n",
    "print(a)"
   ]
  },
  {
   "cell_type": "code",
   "execution_count": 36,
   "metadata": {},
   "outputs": [
    {
     "name": "stdout",
     "output_type": "stream",
     "text": [
      "[]\n"
     ]
    }
   ],
   "source": [
    "apps2.clear()\n",
    "print(apps2)"
   ]
  },
  {
   "cell_type": "code",
   "execution_count": null,
   "metadata": {},
   "outputs": [],
   "source": []
  }
 ],
 "metadata": {
  "kernelspec": {
   "display_name": "base",
   "language": "python",
   "name": "python3"
  },
  "language_info": {
   "codemirror_mode": {
    "name": "ipython",
    "version": 3
   },
   "file_extension": ".py",
   "mimetype": "text/x-python",
   "name": "python",
   "nbconvert_exporter": "python",
   "pygments_lexer": "ipython3",
   "version": "3.9.12"
  }
 },
 "nbformat": 4,
 "nbformat_minor": 2
}

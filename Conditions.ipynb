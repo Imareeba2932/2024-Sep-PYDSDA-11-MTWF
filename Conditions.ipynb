{
 "cells": [
  {
   "cell_type": "code",
   "execution_count": 3,
   "metadata": {},
   "outputs": [
    {
     "name": "stdout",
     "output_type": "stream",
     "text": [
      "A+\n",
      "A\n",
      "B\n",
      "C\n",
      "Fail\n"
     ]
    }
   ],
   "source": [
    "marks = 95\n",
    "if marks >= 90:\n",
    "    print('A+')\n",
    "if marks >= 80:\n",
    "    print('A')\n",
    "if marks >= 70:\n",
    "    print('B')\n",
    "if marks >= 60:\n",
    "    print('C')\n",
    "if marks >= 50:\n",
    "    print('Fail')"
   ]
  },
  {
   "cell_type": "code",
   "execution_count": 5,
   "metadata": {},
   "outputs": [
    {
     "name": "stdout",
     "output_type": "stream",
     "text": [
      "A+\n"
     ]
    }
   ],
   "source": [
    "marks = 95\n",
    "if marks >= 90:\n",
    "    print('A+')\n",
    "elif marks >= 80:\n",
    "    print('A')\n",
    "elif marks >= 70:\n",
    "    print('B')\n",
    "elif marks >= 60:\n",
    "    print('C')\n",
    "elif marks >= 50:\n",
    "    print('Fail')\n",
    "else:\n",
    "    print('Invalid marks')"
   ]
  },
  {
   "cell_type": "code",
   "execution_count": 6,
   "metadata": {},
   "outputs": [
    {
     "name": "stdout",
     "output_type": "stream",
     "text": [
      "Scalene\n"
     ]
    }
   ],
   "source": [
    "s1 = 3\n",
    "s2 = 4\n",
    "s3 = 5\n",
    "if s1 == s2 == s3:\n",
    "    print('Equilateral')\n",
    "elif s1 == s2 or s2 == s3 or s3 == s1:\n",
    "    print('Isosceles')\n",
    "else:\n",
    "    print('Scalene')"
   ]
  },
  {
   "cell_type": "code",
   "execution_count": 7,
   "metadata": {},
   "outputs": [
    {
     "name": "stdout",
     "output_type": "stream",
     "text": [
      "Consonant\n"
     ]
    }
   ],
   "source": [
    "char = input('Enter a character: ')\n",
    "if char=='a' or char=='e' or char=='i' or char=='o' or char=='u':\n",
    "    print('Vowel')\n",
    "else:\n",
    "    print('Consonant')"
   ]
  },
  {
   "cell_type": "code",
   "execution_count": 10,
   "metadata": {},
   "outputs": [
    {
     "name": "stdout",
     "output_type": "stream",
     "text": [
      "Vowel\n"
     ]
    }
   ],
   "source": [
    "char = input('Enter a character: ')\n",
    "if char in 'aeiou':\n",
    "    print('Vowel')\n",
    "else:\n",
    "    print('Consonant')"
   ]
  },
  {
   "cell_type": "code",
   "execution_count": 12,
   "metadata": {},
   "outputs": [
    {
     "name": "stdout",
     "output_type": "stream",
     "text": [
      "a is the greatest\n"
     ]
    }
   ],
   "source": [
    "a = 50\n",
    "b = 20\n",
    "c = 30\n",
    "if a>b:\n",
    "    if a>c:\n",
    "        print('a is the greatest')\n",
    "    else:\n",
    "        print('a is not greater than c')\n",
    "else:\n",
    "    print('a is not greater than b')"
   ]
  },
  {
   "cell_type": "code",
   "execution_count": 1,
   "metadata": {},
   "outputs": [
    {
     "name": "stdout",
     "output_type": "stream",
     "text": [
      "Invalid username😭😭😭\n"
     ]
    }
   ],
   "source": [
    "username = input('Enter username: ')\n",
    "email = input('Enter email: ')\n",
    "password = input('Enter password: ')\n",
    "cpass = input('Enter confirm password: ')\n",
    "if len(username)>5 and len(username)<15:\n",
    "    if '@' in email and len(email)<=20:\n",
    "        if len(password)>=8 and len(password)<=15:\n",
    "            if password==cpass:\n",
    "                print('Registration successful🎊')\n",
    "            else:\n",
    "                print('Password mismatch😢😢')\n",
    "        else:\n",
    "            print('Invalid password😒😒')\n",
    "    else:\n",
    "        print('Invalid email😫😫')\n",
    "else:\n",
    "    print('Invalid username😭😭😭')"
   ]
  },
  {
   "cell_type": "code",
   "execution_count": null,
   "metadata": {},
   "outputs": [],
   "source": []
  }
 ],
 "metadata": {
  "kernelspec": {
   "display_name": "base",
   "language": "python",
   "name": "python3"
  },
  "language_info": {
   "codemirror_mode": {
    "name": "ipython",
    "version": 3
   },
   "file_extension": ".py",
   "mimetype": "text/x-python",
   "name": "python",
   "nbconvert_exporter": "python",
   "pygments_lexer": "ipython3",
   "version": "3.9.12"
  }
 },
 "nbformat": 4,
 "nbformat_minor": 2
}
